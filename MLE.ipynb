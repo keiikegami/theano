{
 "cells": [
  {
   "cell_type": "code",
   "execution_count": 20,
   "metadata": {
    "collapsed": false
   },
   "outputs": [
    {
     "name": "stdout",
     "output_type": "stream",
     "text": [
      "theta :  [ 4.05360992  1.95336957]\n",
      "True theta:  [4, 2]\n",
      "sigma: 1.3160388223\n",
      "True sigma: 1\n"
     ]
    }
   ],
   "source": [
    "# 線形回帰の最尤法\n",
    "# 従属変数を転置する必要がある。\n",
    "\n",
    "import numpy as np\n",
    "import theano as th\n",
    "import theano.tensor as T\n",
    "from math import pi\n",
    "\n",
    "a = np.ones((500, 1))\n",
    "x = np.random.randn(500,1)\n",
    "b = 2\n",
    "c = 4\n",
    "u = np.random.randn(500,1)\n",
    "y = c * a + b * x + u\n",
    "\n",
    "X = np.hstack((a,x))\n",
    "\n",
    "n = len(y)\n",
    "\n",
    "tX = th.shared(np.asarray(X, dtype = th.config.floatX), borrow = True)\n",
    "ty = th.shared(np.asarray(y.T, dtype = th.config.floatX), borrow = True) \n",
    "sh_theta = th.shared(np.ones(2, dtype = th.config.floatX), borrow = True, name = 'theta')\n",
    "sigma = th.shared(1.)\n",
    "\n",
    "liklihood = - (n / 2.) * T.log(2 * pi * sigma ** 2) - (1/sigma**2) * T.sum((ty - T.dot(tX, sh_theta))**2)\n",
    "\n",
    "g_theta = T.grad(liklihood, sh_theta)\n",
    "g_sigma = T.grad(liklihood, sigma)\n",
    "\n",
    "\n",
    "learning_rate = 0.0001\n",
    "updates1 = [(sh_theta, sh_theta + learning_rate * g_theta)]\n",
    "updates2 = [(sigma, sigma + learning_rate * g_sigma)]\n",
    "\n",
    "train1 = th.function([], liklihood, updates = updates1)\n",
    "train2 = th.function([], liklihood, updates = updates2)\n",
    "\n",
    "iteration = 100000\n",
    "for iter in range(iteration):\n",
    "    train1()\n",
    "    train2()\n",
    "\n",
    "t = sh_theta.get_value() \n",
    "s = sigma.get_value()\n",
    "print 'theta : ' , t\n",
    "print 'True theta: ', [4,2]\n",
    "print 'sigma:', s\n",
    "print 'True sigma:', 1"
   ]
  },
  {
   "cell_type": "code",
   "execution_count": null,
   "metadata": {
    "collapsed": true
   },
   "outputs": [],
   "source": []
  }
 ],
 "metadata": {
  "kernelspec": {
   "display_name": "Python 2",
   "language": "python",
   "name": "python2"
  },
  "language_info": {
   "codemirror_mode": {
    "name": "ipython",
    "version": 2
   },
   "file_extension": ".py",
   "mimetype": "text/x-python",
   "name": "python",
   "nbconvert_exporter": "python",
   "pygments_lexer": "ipython2",
   "version": "2.7.9"
  }
 },
 "nbformat": 4,
 "nbformat_minor": 0
}
