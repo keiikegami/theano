{
 "cells": [
  {
   "cell_type": "code",
   "execution_count": 1,
   "metadata": {
    "collapsed": true
   },
   "outputs": [],
   "source": [
    "import theano.tensor as T\n",
    "x = T.dmatrix(\"x\")\n",
    "y = T.dmatrix(\"y\")\n",
    "z = x + y"
   ]
  },
  {
   "cell_type": "code",
   "execution_count": 2,
   "metadata": {
    "collapsed": false
   },
   "outputs": [
    {
     "data": {
      "text/plain": [
       "theano.tensor.var.TensorVariable"
      ]
     },
     "execution_count": 2,
     "metadata": {},
     "output_type": "execute_result"
    }
   ],
   "source": [
    "type(z)"
   ]
  },
  {
   "cell_type": "code",
   "execution_count": 5,
   "metadata": {
    "collapsed": false
   },
   "outputs": [
    {
     "data": {
      "text/plain": [
       "theano.gof.graph.Apply"
      ]
     },
     "execution_count": 5,
     "metadata": {},
     "output_type": "execute_result"
    }
   ],
   "source": [
    "type(z.owner)"
   ]
  },
  {
   "cell_type": "code",
   "execution_count": 7,
   "metadata": {
    "collapsed": false
   },
   "outputs": [
    {
     "data": {
      "text/plain": [
       "'Elemwise{add,no_inplace}'"
      ]
     },
     "execution_count": 7,
     "metadata": {},
     "output_type": "execute_result"
    }
   ],
   "source": [
    "z.owner.op.name"
   ]
  },
  {
   "cell_type": "code",
   "execution_count": 8,
   "metadata": {
    "collapsed": false
   },
   "outputs": [
    {
     "data": {
      "text/plain": [
       "'Elemwise{mul,no_inplace}'"
      ]
     },
     "execution_count": 8,
     "metadata": {},
     "output_type": "execute_result"
    }
   ],
   "source": [
    "w = x * 2\n",
    "w.owner.op.name"
   ]
  },
  {
   "cell_type": "code",
   "execution_count": 13,
   "metadata": {
    "collapsed": false
   },
   "outputs": [
    {
     "name": "stdout",
     "output_type": "stream",
     "text": [
      "Elemwise{mul,no_inplace}(x, DimShuffle{x,x}.0)\n",
      "2\n",
      "[x, DimShuffle{x,x}.0]\n"
     ]
    }
   ],
   "source": [
    "print(w.owner)\n",
    "print(len(w.owner.inputs))\n",
    "print(w.owner.inputs) # second input is not 2"
   ]
  },
  {
   "cell_type": "code",
   "execution_count": 14,
   "metadata": {
    "collapsed": false
   },
   "outputs": [
    {
     "name": "stdout",
     "output_type": "stream",
     "text": [
      "Elemwise{add,no_inplace}(x, y)\n",
      "2\n",
      "[x, y]\n"
     ]
    }
   ],
   "source": [
    "print(z.owner)\n",
    "print(len(z.owner.inputs))\n",
    "print(z.owner.inputs)"
   ]
  },
  {
   "cell_type": "code",
   "execution_count": 18,
   "metadata": {
    "collapsed": false
   },
   "outputs": [
    {
     "data": {
      "text/plain": [
       "[TensorConstant{2}]"
      ]
     },
     "execution_count": 18,
     "metadata": {},
     "output_type": "execute_result"
    }
   ],
   "source": [
    "w.owner.inputs[1].owner.inputs"
   ]
  },
  {
   "cell_type": "code",
   "execution_count": 1,
   "metadata": {
    "collapsed": false
   },
   "outputs": [
    {
     "data": {
      "image/svg+xml": [
       "<svg height=\"302pt\" viewBox=\"0.00 0.00 421.81 302.00\" width=\"422pt\" xmlns=\"http://www.w3.org/2000/svg\" xmlns:xlink=\"http://www.w3.org/1999/xlink\">\n",
       "<g class=\"graph\" id=\"graph0\" transform=\"scale(1 1) rotate(0) translate(4 298)\">\n",
       "<title>G</title>\n",
       "<polygon fill=\"white\" points=\"-4,4 -4,-298 417.811,-298 417.811,4 -4,4\" stroke=\"none\"/>\n",
       "<!-- DimShuffle{x} -->\n",
       "<g class=\"node\" id=\"node1\"><title>DimShuffle{x}</title>\n",
       "<ellipse cx=\"274\" cy=\"-190\" fill=\"none\" rx=\"63.9366\" ry=\"18\" stroke=\"black\"/>\n",
       "<text font-family=\"Times,serif\" font-size=\"14.00\" text-anchor=\"middle\" x=\"274\" y=\"-185.8\">DimShuffle{x}</text>\n",
       "</g>\n",
       "<!-- Elemwise{mul,no_inplace} -->\n",
       "<g class=\"node\" id=\"node3\"><title>Elemwise{mul,no_inplace}</title>\n",
       "<ellipse cx=\"179\" cy=\"-104\" fill=\"#ffaabb\" rx=\"108.354\" ry=\"18\" stroke=\"black\"/>\n",
       "<text font-family=\"Times,serif\" font-size=\"14.00\" text-anchor=\"middle\" x=\"179\" y=\"-99.8\">Elemwise{mul,no_inplace}</text>\n",
       "</g>\n",
       "<!-- DimShuffle{x}&#45;&gt;Elemwise{mul,no_inplace} -->\n",
       "<g class=\"edge\" id=\"edge3\"><title>DimShuffle{x}-&gt;Elemwise{mul,no_inplace}</title>\n",
       "<path d=\"M269.564,-171.851C266.175,-161.564 260.594,-148.812 252,-140 246.48,-134.34 239.862,-129.478 232.894,-125.335\" fill=\"none\" stroke=\"black\"/>\n",
       "<polygon fill=\"black\" points=\"234.395,-122.168 223.937,-120.468 231.052,-128.318 234.395,-122.168\" stroke=\"black\"/>\n",
       "<text font-family=\"Times,serif\" font-size=\"14.00\" text-anchor=\"middle\" x=\"337.405\" y=\"-142.8\">1 TensorType(int8, (True,))</text>\n",
       "</g>\n",
       "<!-- val=2 TensorType(int8, scalar) -->\n",
       "<g class=\"node\" id=\"node2\"><title>val=2 TensorType(int8, scalar)</title>\n",
       "<polygon fill=\"green\" points=\"367.264,-294 180.736,-294 180.736,-258 367.264,-258 367.264,-294\" stroke=\"black\"/>\n",
       "<text font-family=\"Times,serif\" font-size=\"14.00\" text-anchor=\"middle\" x=\"274\" y=\"-271.8\">val=2 TensorType(int8, scalar)</text>\n",
       "</g>\n",
       "<!-- val=2 TensorType(int8, scalar)&#45;&gt;DimShuffle{x} -->\n",
       "<g class=\"edge\" id=\"edge1\"><title>val=2 TensorType(int8, scalar)-&gt;DimShuffle{x}</title>\n",
       "<path d=\"M274,-257.595C274,-246.257 274,-231.227 274,-218.315\" fill=\"none\" stroke=\"black\"/>\n",
       "<polygon fill=\"black\" points=\"277.5,-218.095 274,-208.095 270.5,-218.095 277.5,-218.095\" stroke=\"black\"/>\n",
       "<text font-family=\"Times,serif\" font-size=\"14.00\" text-anchor=\"middle\" x=\"342.216\" y=\"-228.8\">TensorType(int8, scalar)</text>\n",
       "</g>\n",
       "<!-- TensorType(float64, vector) id=3 -->\n",
       "<g class=\"node\" id=\"node5\"><title>TensorType(float64, vector) id=3</title>\n",
       "<polygon fill=\"blue\" points=\"279.374,-36 78.6264,-36 78.6264,-0 279.374,-0 279.374,-36\" stroke=\"black\"/>\n",
       "<text font-family=\"Times,serif\" font-size=\"14.00\" text-anchor=\"middle\" x=\"179\" y=\"-13.8\">TensorType(float64, vector) id=3</text>\n",
       "</g>\n",
       "<!-- Elemwise{mul,no_inplace}&#45;&gt;TensorType(float64, vector) id=3 -->\n",
       "<g class=\"edge\" id=\"edge4\"><title>Elemwise{mul,no_inplace}-&gt;TensorType(float64, vector) id=3</title>\n",
       "<path d=\"M179,-85.5951C179,-74.2572 179,-59.2271 179,-46.3153\" fill=\"none\" stroke=\"black\"/>\n",
       "<polygon fill=\"black\" points=\"182.5,-46.0951 179,-36.0952 175.5,-46.0952 182.5,-46.0951\" stroke=\"black\"/>\n",
       "<text font-family=\"Times,serif\" font-size=\"14.00\" text-anchor=\"middle\" x=\"256.94\" y=\"-56.8\">TensorType(float64, vector)</text>\n",
       "</g>\n",
       "<!-- TensorType(float64, vector) -->\n",
       "<g class=\"node\" id=\"node4\"><title>TensorType(float64, vector)</title>\n",
       "<polygon fill=\"green\" points=\"170.41,-208 -0.410282,-208 -0.410282,-172 170.41,-172 170.41,-208\" stroke=\"black\"/>\n",
       "<text font-family=\"Times,serif\" font-size=\"14.00\" text-anchor=\"middle\" x=\"85\" y=\"-185.8\">TensorType(float64, vector)</text>\n",
       "</g>\n",
       "<!-- TensorType(float64, vector)&#45;&gt;Elemwise{mul,no_inplace} -->\n",
       "<g class=\"edge\" id=\"edge2\"><title>TensorType(float64, vector)-&gt;Elemwise{mul,no_inplace}</title>\n",
       "<path d=\"M80.7884,-171.642C79.3654,-161.532 79.4891,-149.037 85.8662,-140 90.6278,-133.252 96.8594,-127.804 103.846,-123.405\" fill=\"none\" stroke=\"black\"/>\n",
       "<polygon fill=\"black\" points=\"105.95,-126.244 113.045,-118.376 102.592,-120.102 105.95,-126.244\" stroke=\"black\"/>\n",
       "<text font-family=\"Times,serif\" font-size=\"14.00\" text-anchor=\"middle\" x=\"169.067\" y=\"-142.8\">0 TensorType(float64, vector)</text>\n",
       "</g>\n",
       "</g>\n",
       "</svg>"
      ],
      "text/plain": [
       "<IPython.core.display.SVG object>"
      ]
     },
     "execution_count": 1,
     "metadata": {},
     "output_type": "execute_result"
    }
   ],
   "source": [
    "# graph visualization\n",
    "import theano\n",
    "import pydot\n",
    "v = theano.tensor.vector()\n",
    "from IPython.display import SVG\n",
    "SVG(theano.printing.pydotprint(v*2, return_image=True,\n",
    "                               format='svg'))"
   ]
  },
  {
   "cell_type": "code",
   "execution_count": 2,
   "metadata": {
    "collapsed": false
   },
   "outputs": [
    {
     "name": "stdout",
     "output_type": "stream",
     "text": [
      "[    0.     2.  1026.]\n"
     ]
    }
   ],
   "source": [
    "# optimization visualization\n",
    "import theano\n",
    "import pydot\n",
    "a = theano.tensor.vector(\"a\")\n",
    "b = a + a ** 10\n",
    "f = theano.function([a], b)\n",
    "print(f([0,1,2]))"
   ]
  },
  {
   "cell_type": "code",
   "execution_count": 6,
   "metadata": {
    "collapsed": false
   },
   "outputs": [
    {
     "name": "stdout",
     "output_type": "stream",
     "text": [
      "The output file is available at ./grap.png\n"
     ]
    }
   ],
   "source": [
    "theano.printing.pydotprint(b, outfile = './grap.png', var_with_name_simple=True)"
   ]
  },
  {
   "cell_type": "code",
   "execution_count": 8,
   "metadata": {
    "collapsed": false
   },
   "outputs": [
    {
     "name": "stdout",
     "output_type": "stream",
     "text": [
      "The output file is available at ./graph_opt.png\n"
     ]
    }
   ],
   "source": [
    "theano.printing.pydotprint(f, outfile=\"./graph_opt.png\", var_with_name_simple=True)"
   ]
  },
  {
   "cell_type": "code",
   "execution_count": null,
   "metadata": {
    "collapsed": true
   },
   "outputs": [],
   "source": []
  }
 ],
 "metadata": {
  "kernelspec": {
   "display_name": "Python 2",
   "language": "python",
   "name": "python2"
  },
  "language_info": {
   "codemirror_mode": {
    "name": "ipython",
    "version": 2
   },
   "file_extension": ".py",
   "mimetype": "text/x-python",
   "name": "python",
   "nbconvert_exporter": "python",
   "pygments_lexer": "ipython2",
   "version": "2.7.9"
  }
 },
 "nbformat": 4,
 "nbformat_minor": 0
}
