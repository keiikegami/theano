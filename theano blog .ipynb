{
 "cells": [
  {
   "cell_type": "code",
   "execution_count": 3,
   "metadata": {
    "collapsed": false
   },
   "outputs": [
    {
     "name": "stdout",
     "output_type": "stream",
     "text": [
      "[[ 1.  2.  3.]\n",
      " [ 4.  5.  6.]]\n"
     ]
    }
   ],
   "source": [
    "# 共有変数\n",
    "import numpy as np \n",
    "import theano\n",
    "\n",
    "# メモリに乗せるためにfloatX型にする必要がある\n",
    "data = np.array([[1,2,3], [4,5,6]], dtype = theano.config.floatX)\n",
    "# borrowは基本Trueでおけ\n",
    "X = theano.shared(data, name = 'X', borrow = True)\n",
    "print X.get_value()\n",
    "\n",
    "# 共有変数は最初から値が入っている\n",
    "# 普通のシンボルは関数の結果として値が与えられる\n",
    "# この違いに注意"
   ]
  },
  {
   "cell_type": "code",
   "execution_count": 6,
   "metadata": {
    "collapsed": false
   },
   "outputs": [
    {
     "name": "stdout",
     "output_type": "stream",
     "text": [
      "[[ 1.  2.  3.]\n",
      " [ 4.  5.  6.]]\n",
      "[ 1.  1.]\n",
      "<class 'theano.tensor.var.TensorVariable'>\n",
      "[  7.  16.]\n"
     ]
    }
   ],
   "source": [
    "# 共有変数を使う例\n",
    "\n",
    "# 線形回帰の形を作る\n",
    "# 回帰係数の値を共有変数としておく\n",
    "import numpy as np\n",
    "import theano\n",
    "import theano.tensor as T\n",
    "\n",
    "# 共有変数を定義する\n",
    "# 初期値を設定して、そこから初期化していくイメージ\n",
    "w = theano.shared(np.array([[1,2,3], [4,5,6]], dtype = theano.config.floatX), name = 'w', borrow = True)\n",
    "b = theano.shared(np.array([1,1], dtype = theano.config.floatX), name = 'b', borrow = True )\n",
    "\n",
    "# 共有変数の値所得\n",
    "print w.get_value()\n",
    "print b.get_value()\n",
    "\n",
    "# 下のような変数(シンボル)は、関数ありき\n",
    "# 最初から値が入っているわけではない\n",
    "x = T.vector('x')\n",
    "\n",
    "# 回帰関数の提示\n",
    "y = T.dot(w, x) + b\n",
    "print type(y)\n",
    "\n",
    "f = theano.function([x], y)\n",
    "\n",
    "print f([1,1,1])"
   ]
  },
  {
   "cell_type": "code",
   "execution_count": 9,
   "metadata": {
    "collapsed": false
   },
   "outputs": [
    {
     "name": "stdout",
     "output_type": "stream",
     "text": [
      "Elemwise{Composite{((i0 * exp(i0)) + exp(i0))}}(x)\n",
      "22.1671682968\n",
      "80.3421476928\n"
     ]
    }
   ],
   "source": [
    "# 微分の例\n",
    "\n",
    "x = T.dscalar('x')\n",
    "y = T.exp(x) * x\n",
    "\n",
    "gy = T.grad(y, x)\n",
    "\n",
    "f = theano.function([x], gy)\n",
    "print theano.pp(f.maker.fgraph.outputs[0])\n",
    "\n",
    "print f(2)\n",
    "print f(3)"
   ]
  },
  {
   "cell_type": "code",
   "execution_count": 10,
   "metadata": {
    "collapsed": false
   },
   "outputs": [
    {
     "name": "stdout",
     "output_type": "stream",
     "text": [
      "cos(x)\n",
      "-0.416146836547\n",
      "-0.9899924966\n"
     ]
    }
   ],
   "source": [
    "x = T.dscalar('x')\n",
    "y = T.sin(x)\n",
    "\n",
    "gy = T.grad(y, x)\n",
    "\n",
    "f = theano.function([x], gy)\n",
    "print theano.pp(f.maker.fgraph.outputs[0])\n",
    "\n",
    "print f(2)\n",
    "print f(3)"
   ]
  },
  {
   "cell_type": "code",
   "execution_count": 13,
   "metadata": {
    "collapsed": false
   },
   "outputs": [
    {
     "name": "stdout",
     "output_type": "stream",
     "text": [
      "Elemwise{Composite{(i0 + Composite{(sqr(i0) * i0)}(i1) + (i2 * i1) + (i3 * (i4 + i1) * sqr(i1)) + (i2 * (i4 + i1)))}}(TensorConstant{-10.0}, x, TensorConstant{4.0}, TensorConstant{3.0}, TensorConstant{-4.0})\n",
      "-26.0\n",
      "-2.0\n"
     ]
    }
   ],
   "source": [
    "x = T.dscalar('x')\n",
    "y = (x - 4) * (x ** 3 + 4*x -10)\n",
    "\n",
    "gy = T.grad(y, x)\n",
    "\n",
    "f = theano.function([x], gy)\n",
    "print theano.pp(f.maker.fgraph.outputs[0])\n",
    "\n",
    "print f(2)\n",
    "print f(3)"
   ]
  },
  {
   "cell_type": "code",
   "execution_count": 14,
   "metadata": {
    "collapsed": false
   },
   "outputs": [
    {
     "name": "stdout",
     "output_type": "stream",
     "text": [
      "Elemwise{Composite{((i0 * sqr((i1 + sqrt(i2)))) / sqrt(i2))}}(TensorConstant{1.5}, TensorConstant{3.0}, x)\n",
      "20.6672618896\n",
      "19.3923048454\n"
     ]
    }
   ],
   "source": [
    "x = T.dscalar('x')\n",
    "y = (T.sqrt(x) + 3) ** 3\n",
    "\n",
    "gy = T.grad(y, x)\n",
    "\n",
    "f = theano.function([x], gy)\n",
    "print theano.pp(f.maker.fgraph.outputs[0])\n",
    "\n",
    "print f(2)\n",
    "print f(3)"
   ]
  },
  {
   "cell_type": "code",
   "execution_count": 15,
   "metadata": {
    "collapsed": false
   },
   "outputs": [
    {
     "name": "stdout",
     "output_type": "stream",
     "text": [
      "10.0\n",
      "28.0\n",
      "12.0\n",
      "28.0\n"
     ]
    }
   ],
   "source": [
    "# 偏微分もできちゃうよ\n",
    "\n",
    "x = T.dscalar('x')\n",
    "y = T.dscalar('y')\n",
    "\n",
    "z = (x + 2 * y) ** 2\n",
    "\n",
    "gx = T.grad(z, x)\n",
    "gy = T.grad(z, y)\n",
    "\n",
    "fgx = theano.function([x, y], gx)\n",
    "fgy = theano.function([x, y], gy)\n",
    "\n",
    "print fgx(1,2)\n",
    "print fgy(1,3)\n",
    "print fgx(2,2)\n",
    "print fgy(3,2)"
   ]
  },
  {
   "cell_type": "code",
   "execution_count": null,
   "metadata": {
    "collapsed": true
   },
   "outputs": [],
   "source": [
    "# ロジスティック回帰"
   ]
  }
 ],
 "metadata": {
  "kernelspec": {
   "display_name": "Python 2",
   "language": "python",
   "name": "python2"
  },
  "language_info": {
   "codemirror_mode": {
    "name": "ipython",
    "version": 2
   },
   "file_extension": ".py",
   "mimetype": "text/x-python",
   "name": "python",
   "nbconvert_exporter": "python",
   "pygments_lexer": "ipython2",
   "version": "2.7.9"
  }
 },
 "nbformat": 4,
 "nbformat_minor": 0
}
